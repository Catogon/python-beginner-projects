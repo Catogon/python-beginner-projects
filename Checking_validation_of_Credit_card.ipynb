{
  "nbformat": 4,
  "nbformat_minor": 0,
  "metadata": {
    "colab": {
      "name": "Checking_validation_of_Credit_card.ipynb",
      "provenance": []
    },
    "kernelspec": {
      "name": "python3",
      "display_name": "Python 3"
    }
  },
  "cells": [
    {
      "cell_type": "code",
      "metadata": {
        "id": "JKkOJ0iaYkXp"
      },
      "source": [
        "def validity_check(num):                                                   # this function adds every digit of the card number to a list and,\n",
        "    validlist=[]\n",
        "    for i in num:\n",
        "        validlist.append(int(i))\n",
        "    for i in range(0,len(num),2):                                             # applying Luhn Algorithm to check whether resulting sum is divisible by ten\n",
        "        validlist[i] = validlist[i] * 2\n",
        "        if validlist[i]  >= 10:\n",
        "            validlist[i] =  (validlist[i]//10 + validlist[i]%10)\n",
        "    \n",
        "    if sum(validlist)% 10 == 0:\n",
        "        print(\"This is a VALID CARD!\")\n",
        "    \n",
        "    else:\n",
        "        print('INVALID CARD NUMBER')\n",
        "\n",
        "def card_number():                                                                     # accepts card number as a string\n",
        "\n",
        "    n =''\n",
        "    while True:\n",
        "        try:\n",
        "            n = input('Enter your 16 digit credit card number : ')\n",
        "\n",
        "            if not (len(n) == 16) or not type(int(n) == int) :\n",
        "                raise Exception\n",
        "\n",
        "        except Exception:    \n",
        "            print('That is not a valid credit card number. \\nMake sure you are entering digits not characters and all the 16 digits.')\n",
        "            continue\n",
        "\n",
        "        else:\n",
        "            break\n",
        "\n",
        "\n",
        "    return n\n",
        "\n",
        "def goagain():\n",
        "    return input('Do you want to check again? (Yes/No) : ').lower()[0] == 'y'\n",
        "\n",
        "def main():\n",
        "\n",
        "    while True:\n",
        "\n",
        "        num = card_number()\n",
        "        validity_check(num)\n",
        "\n",
        "\n",
        "        if not goagain():\n",
        "            break\n",
        "\n",
        "if __name__ == '__main__':\n",
        "    main()\n",
        "\n"
      ],
      "execution_count": null,
      "outputs": []
    }
  ]
}